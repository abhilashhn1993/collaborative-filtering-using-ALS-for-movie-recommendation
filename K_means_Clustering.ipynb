{
  "nbformat": 4,
  "nbformat_minor": 0,
  "metadata": {
    "colab": {
      "name": "K_means_Clustering.ipynb",
      "provenance": [],
      "collapsed_sections": [],
      "include_colab_link": true
    },
    "kernelspec": {
      "name": "python3",
      "display_name": "Python 3"
    }
  },
  "cells": [
    {
      "cell_type": "markdown",
      "metadata": {
        "id": "view-in-github",
        "colab_type": "text"
      },
      "source": [
        "<a href=\"https://colab.research.google.com/github/abhilashhn1993/movie-recommendation-engine/blob/main/K_means_Clustering.ipynb\" target=\"_parent\"><img src=\"https://colab.research.google.com/assets/colab-badge.svg\" alt=\"Open In Colab\"/></a>"
      ]
    },
    {
      "cell_type": "code",
      "metadata": {
        "id": "GBU_2rlPSmKd"
      },
      "source": [
        "import os\n",
        "import json\n",
        "import gzip\n",
        "import pandas as pd"
      ],
      "execution_count": null,
      "outputs": []
    },
    {
      "cell_type": "code",
      "metadata": {
        "id": "hj6NFpEGSujC"
      },
      "source": [
        "from sklearn.feature_extraction.text import TfidfVectorizer, CountVectorizer\n",
        "from sklearn.neighbors import NearestNeighbors\n",
        "from sklearn.cluster import KMeans\n",
        "from sklearn.metrics import adjusted_rand_score"
      ],
      "execution_count": null,
      "outputs": []
    },
    {
      "cell_type": "code",
      "metadata": {
        "colab": {
          "base_uri": "https://localhost:8080/"
        },
        "id": "o7fltXGES2FG",
        "outputId": "3ddcee69-a95d-41f9-9411-bb28077e73bb"
      },
      "source": [
        "import pickle\n",
        "# Mounting Google drive to this file\n",
        "from google.colab import drive\n",
        "drive.mount('/content/drive')"
      ],
      "execution_count": null,
      "outputs": [
        {
          "output_type": "stream",
          "text": [
            "Mounted at /content/drive\n"
          ],
          "name": "stdout"
        }
      ]
    },
    {
      "cell_type": "code",
      "metadata": {
        "id": "7FsGGpJITgNk"
      },
      "source": [
        "# Install JDK\n",
        "!apt-get install openjdk-8-jdk-headless -qq > /dev/null"
      ],
      "execution_count": null,
      "outputs": []
    },
    {
      "cell_type": "code",
      "metadata": {
        "id": "zvuwY7fuTh-V"
      },
      "source": [
        "!wget -q https://downloads.apache.org/spark/spark-3.0.1/spark-3.0.1-bin-hadoop2.7.tgz"
      ],
      "execution_count": null,
      "outputs": []
    },
    {
      "cell_type": "code",
      "metadata": {
        "id": "dNXymx7nTlSW"
      },
      "source": [
        "!tar -xvf spark-3.0.1-bin-hadoop2.7.tgz"
      ],
      "execution_count": null,
      "outputs": []
    },
    {
      "cell_type": "code",
      "metadata": {
        "id": "jt2ZhaWFTrNK"
      },
      "source": [
        "!pip install -q findspark"
      ],
      "execution_count": null,
      "outputs": []
    },
    {
      "cell_type": "code",
      "metadata": {
        "id": "JdSQjBLrUKqW"
      },
      "source": [
        "import os\n",
        "os.environ[\"JAVA_HOME\"] = \"/usr/lib/jvm/java-8-openjdk-amd64\"\n",
        "os.environ[\"SPARK_HOME\"] = \"/content/spark-3.0.1-bin-hadoop2.7\""
      ],
      "execution_count": null,
      "outputs": []
    },
    {
      "cell_type": "code",
      "metadata": {
        "id": "HWarVKS-UQOi"
      },
      "source": [
        "# Create local Spark session\n",
        "import findspark\n",
        "findspark.init()\n",
        "from pyspark.sql import SparkSession\n",
        "spark = SparkSession.builder.master(\"local[*]\").getOrCreate()"
      ],
      "execution_count": null,
      "outputs": []
    },
    {
      "cell_type": "code",
      "metadata": {
        "id": "bQ9uGr3zUVWG"
      },
      "source": [
        "from pyspark.sql import SparkSession\n",
        "spark = SparkSession.builder.master(\"local[*]\").getOrCreate()"
      ],
      "execution_count": null,
      "outputs": []
    },
    {
      "cell_type": "code",
      "metadata": {
        "id": "bNLpcOIpUYAT"
      },
      "source": [
        "import matplotlib.pyplot as plt\n",
        "\n",
        "# %matplotlib inline\n",
        "plt.style.use(\"ggplot\")"
      ],
      "execution_count": null,
      "outputs": []
    },
    {
      "cell_type": "code",
      "metadata": {
        "colab": {
          "base_uri": "https://localhost:8080/"
        },
        "id": "sqd3x_JJlIR8",
        "outputId": "da0ffb15-cc39-405e-ae20-add7eac76232"
      },
      "source": [
        "from google.colab import drive\n",
        "drive.mount('/content/drive')"
      ],
      "execution_count": null,
      "outputs": [
        {
          "output_type": "stream",
          "text": [
            "Drive already mounted at /content/drive; to attempt to forcibly remount, call drive.mount(\"/content/drive\", force_remount=True).\n"
          ],
          "name": "stdout"
        }
      ]
    },
    {
      "cell_type": "code",
      "metadata": {
        "colab": {
          "base_uri": "https://localhost:8080/"
        },
        "id": "mCYMtDChlemB",
        "outputId": "eb538e68-df53-4add-a4e5-9e733e5ad4b5"
      },
      "source": [
        "import pandas as pd\n",
        "data = pd.read_csv('/content/drive/MyDrive/Colab Notebooks/movies_metadata.csv')\n",
        "# # total length of list, this number equals total number of products\n",
        "print(len(data))\n",
        "\n",
        "# # first row of the list\n",
        "data['overview'].head(200)"
      ],
      "execution_count": null,
      "outputs": [
        {
          "output_type": "stream",
          "text": [
            "45466\n"
          ],
          "name": "stdout"
        },
        {
          "output_type": "stream",
          "text": [
            "/usr/local/lib/python3.6/dist-packages/IPython/core/interactiveshell.py:2718: DtypeWarning: Columns (10) have mixed types.Specify dtype option on import or set low_memory=False.\n",
            "  interactivity=interactivity, compiler=compiler, result=result)\n"
          ],
          "name": "stderr"
        },
        {
          "output_type": "execute_result",
          "data": {
            "text/plain": [
              "0      Led by Woody, Andy's toys live happily in his ...\n",
              "1      When siblings Judy and Peter discover an encha...\n",
              "2      A family wedding reignites the ancient feud be...\n",
              "3      Cheated on, mistreated and stepped on, the wom...\n",
              "4      Just when George Banks has recovered from his ...\n",
              "                             ...                        \n",
              "195    Set in the year 1999 during the last days of t...\n",
              "196    This simple romantic tragedy begins in 1957. G...\n",
              "197    John Netherwood and his wife Leann are fugitiv...\n",
              "198    While Jane Holman (Mastrantonio) is driving wi...\n",
              "199    Young, wild poet Arthur Rimbaud and his mentor...\n",
              "Name: overview, Length: 200, dtype: object"
            ]
          },
          "metadata": {
            "tags": []
          },
          "execution_count": 14
        }
      ]
    },
    {
      "cell_type": "code",
      "metadata": {
        "colab": {
          "base_uri": "https://localhost:8080/"
        },
        "id": "PXA9WgxafXN7",
        "outputId": "7f5ba21c-bc49-4698-ac3a-1991dd439daf"
      },
      "source": [
        "data.columns"
      ],
      "execution_count": null,
      "outputs": [
        {
          "output_type": "execute_result",
          "data": {
            "text/plain": [
              "Index(['adult', 'belongs_to_collection', 'budget', 'genres', 'homepage', 'id',\n",
              "       'imdb_id', 'original_language', 'original_title', 'overview',\n",
              "       'popularity', 'poster_path', 'production_companies',\n",
              "       'production_countries', 'release_date', 'revenue', 'runtime',\n",
              "       'spoken_languages', 'status', 'tagline', 'title', 'video',\n",
              "       'vote_average', 'vote_count'],\n",
              "      dtype='object')"
            ]
          },
          "metadata": {
            "tags": []
          },
          "execution_count": 15
        }
      ]
    },
    {
      "cell_type": "code",
      "metadata": {
        "colab": {
          "base_uri": "https://localhost:8080/",
          "height": 423
        },
        "id": "iTiLOvgwyWOj",
        "outputId": "09d1b8f0-fd2a-4a2a-c818-d40df44d0ce1"
      },
      "source": [
        "newdata = data.dropna(axis=0, subset=['overview'])\n",
        "newdata=newdata[['original_title','overview']]\n",
        "newdata"
      ],
      "execution_count": null,
      "outputs": [
        {
          "output_type": "execute_result",
          "data": {
            "text/html": [
              "<div>\n",
              "<style scoped>\n",
              "    .dataframe tbody tr th:only-of-type {\n",
              "        vertical-align: middle;\n",
              "    }\n",
              "\n",
              "    .dataframe tbody tr th {\n",
              "        vertical-align: top;\n",
              "    }\n",
              "\n",
              "    .dataframe thead th {\n",
              "        text-align: right;\n",
              "    }\n",
              "</style>\n",
              "<table border=\"1\" class=\"dataframe\">\n",
              "  <thead>\n",
              "    <tr style=\"text-align: right;\">\n",
              "      <th></th>\n",
              "      <th>original_title</th>\n",
              "      <th>overview</th>\n",
              "    </tr>\n",
              "  </thead>\n",
              "  <tbody>\n",
              "    <tr>\n",
              "      <th>0</th>\n",
              "      <td>Toy Story</td>\n",
              "      <td>Led by Woody, Andy's toys live happily in his ...</td>\n",
              "    </tr>\n",
              "    <tr>\n",
              "      <th>1</th>\n",
              "      <td>Jumanji</td>\n",
              "      <td>When siblings Judy and Peter discover an encha...</td>\n",
              "    </tr>\n",
              "    <tr>\n",
              "      <th>2</th>\n",
              "      <td>Grumpier Old Men</td>\n",
              "      <td>A family wedding reignites the ancient feud be...</td>\n",
              "    </tr>\n",
              "    <tr>\n",
              "      <th>3</th>\n",
              "      <td>Waiting to Exhale</td>\n",
              "      <td>Cheated on, mistreated and stepped on, the wom...</td>\n",
              "    </tr>\n",
              "    <tr>\n",
              "      <th>4</th>\n",
              "      <td>Father of the Bride Part II</td>\n",
              "      <td>Just when George Banks has recovered from his ...</td>\n",
              "    </tr>\n",
              "    <tr>\n",
              "      <th>...</th>\n",
              "      <td>...</td>\n",
              "      <td>...</td>\n",
              "    </tr>\n",
              "    <tr>\n",
              "      <th>45461</th>\n",
              "      <td>رگ خواب</td>\n",
              "      <td>Rising and falling between a man and woman.</td>\n",
              "    </tr>\n",
              "    <tr>\n",
              "      <th>45462</th>\n",
              "      <td>Siglo ng Pagluluwal</td>\n",
              "      <td>An artist struggles to finish his work while a...</td>\n",
              "    </tr>\n",
              "    <tr>\n",
              "      <th>45463</th>\n",
              "      <td>Betrayal</td>\n",
              "      <td>When one of her hits goes wrong, a professiona...</td>\n",
              "    </tr>\n",
              "    <tr>\n",
              "      <th>45464</th>\n",
              "      <td>Satana likuyushchiy</td>\n",
              "      <td>In a small town live two brothers, one a minis...</td>\n",
              "    </tr>\n",
              "    <tr>\n",
              "      <th>45465</th>\n",
              "      <td>Queerama</td>\n",
              "      <td>50 years after decriminalisation of homosexual...</td>\n",
              "    </tr>\n",
              "  </tbody>\n",
              "</table>\n",
              "<p>44512 rows × 2 columns</p>\n",
              "</div>"
            ],
            "text/plain": [
              "                    original_title                                           overview\n",
              "0                        Toy Story  Led by Woody, Andy's toys live happily in his ...\n",
              "1                          Jumanji  When siblings Judy and Peter discover an encha...\n",
              "2                 Grumpier Old Men  A family wedding reignites the ancient feud be...\n",
              "3                Waiting to Exhale  Cheated on, mistreated and stepped on, the wom...\n",
              "4      Father of the Bride Part II  Just when George Banks has recovered from his ...\n",
              "...                            ...                                                ...\n",
              "45461                      رگ خواب        Rising and falling between a man and woman.\n",
              "45462          Siglo ng Pagluluwal  An artist struggles to finish his work while a...\n",
              "45463                     Betrayal  When one of her hits goes wrong, a professiona...\n",
              "45464          Satana likuyushchiy  In a small town live two brothers, one a minis...\n",
              "45465                     Queerama  50 years after decriminalisation of homosexual...\n",
              "\n",
              "[44512 rows x 2 columns]"
            ]
          },
          "metadata": {
            "tags": []
          },
          "execution_count": 16
        }
      ]
    },
    {
      "cell_type": "code",
      "metadata": {
        "colab": {
          "base_uri": "https://localhost:8080/"
        },
        "id": "xr8jLGZGxVLE",
        "outputId": "2cc7c999-e509-4649-de10-154bfe47cf8d"
      },
      "source": [
        "vectorizer = TfidfVectorizer(stop_words='english')\n",
        "vec = vectorizer.fit_transform(newdata['overview'])\n",
        "vec"
      ],
      "execution_count": null,
      "outputs": [
        {
          "output_type": "execute_result",
          "data": {
            "text/plain": [
              "<44512x75827 sparse matrix of type '<class 'numpy.float64'>'\n",
              "\twith 1210882 stored elements in Compressed Sparse Row format>"
            ]
          },
          "metadata": {
            "tags": []
          },
          "execution_count": 17
        }
      ]
    },
    {
      "cell_type": "code",
      "metadata": {
        "id": "LY-4p742b4TJ"
      },
      "source": [
        "from pyspark import SparkContext\n",
        "from pyspark import SparkConf\n",
        "from pyspark.sql import SparkSession, SQLContext\n",
        "from pyspark.sql.functions import *\n",
        "from pyspark.ml.clustering import KMeans\n",
        "from pyspark.ml.evaluation import ClusteringEvaluator\n",
        "from pyspark.ml import Pipeline\n",
        "\n",
        "from pyspark import SparkConf, SparkContext\n",
        "from pyspark.mllib.feature import HashingTF\n",
        "from pyspark.mllib.feature import IDF\n",
        "\n",
        "!pip install -q findspark\n",
        "\n",
        "import findspark\n",
        "findspark.init()"
      ],
      "execution_count": null,
      "outputs": []
    },
    {
      "cell_type": "code",
      "metadata": {
        "colab": {
          "base_uri": "https://localhost:8080/"
        },
        "id": "7PLbH69UcHhW",
        "outputId": "166a9283-78ab-4316-fc94-bf25739f09f3"
      },
      "source": [
        "spark = SparkSession.builder.appName(\"Python Spark SQL basic example\").config(\"spark.some.config.option\", \"some-value\").getOrCreate()\n",
        "\n",
        "sdf = spark.createDataFrame(newdata.astype(str))\n",
        "sdf.show()\n",
        "sdf.cache()"
      ],
      "execution_count": null,
      "outputs": [
        {
          "output_type": "stream",
          "text": [
            "+--------------------+--------------------+\n",
            "|      original_title|            overview|\n",
            "+--------------------+--------------------+\n",
            "|           Toy Story|Led by Woody, And...|\n",
            "|             Jumanji|When siblings Jud...|\n",
            "|    Grumpier Old Men|A family wedding ...|\n",
            "|   Waiting to Exhale|Cheated on, mistr...|\n",
            "|Father of the Bri...|Just when George ...|\n",
            "|                Heat|Obsessive master ...|\n",
            "|             Sabrina|An ugly duckling ...|\n",
            "|        Tom and Huck|A mischievous you...|\n",
            "|        Sudden Death|International act...|\n",
            "|           GoldenEye|James Bond must u...|\n",
            "|The American Pres...|Widowed U.S. pres...|\n",
            "|Dracula: Dead and...|When a lawyer sho...|\n",
            "|               Balto|An outcast half-w...|\n",
            "|               Nixon|An all-star cast ...|\n",
            "|    Cutthroat Island|Morgan Adams and ...|\n",
            "|              Casino|The life of the g...|\n",
            "|Sense and Sensibi...|Rich Mr. Dashwood...|\n",
            "|          Four Rooms|It's Ted the Bell...|\n",
            "|Ace Ventura: When...|Summoned from an ...|\n",
            "|         Money Train|A vengeful New Yo...|\n",
            "+--------------------+--------------------+\n",
            "only showing top 20 rows\n",
            "\n"
          ],
          "name": "stdout"
        },
        {
          "output_type": "execute_result",
          "data": {
            "text/plain": [
              "DataFrame[original_title: string, overview: string]"
            ]
          },
          "metadata": {
            "tags": []
          },
          "execution_count": 19
        }
      ]
    },
    {
      "cell_type": "code",
      "metadata": {
        "id": "GhmjUgxthWwK"
      },
      "source": [
        "from pyspark.ml.feature import HashingTF, IDF, Tokenizer, CountVectorizer, StopWordsRemover\n",
        "from pyspark.ml.evaluation import ClusteringEvaluator\n",
        "from pandas.core.reshape.concat import concat\n",
        "\n",
        "tokenizer = Tokenizer(inputCol=\"overview\", outputCol=\"tokens\")\n",
        "remover = StopWordsRemover(inputCol=\"tokens\", outputCol=\"stopWordsRemovedTokens\")\n",
        "hashingTF = HashingTF(inputCol=\"stopWordsRemovedTokens\", outputCol=\"rawFeatures\", numFeatures=2000)\n",
        "idf = IDF(inputCol=\"rawFeatures\", outputCol=\"features\", minDocFreq=5)"
      ],
      "execution_count": null,
      "outputs": []
    },
    {
      "cell_type": "code",
      "metadata": {
        "id": "RFG7wCiNhiyk"
      },
      "source": [
        "kmeans = KMeans(k=12)\n",
        "pipeline = Pipeline(stages=[tokenizer, remover, hashingTF, idf, kmeans])"
      ],
      "execution_count": null,
      "outputs": []
    },
    {
      "cell_type": "code",
      "metadata": {
        "id": "LpUwiPBohlMy"
      },
      "source": [
        "model = pipeline.fit(sdf)"
      ],
      "execution_count": null,
      "outputs": []
    },
    {
      "cell_type": "code",
      "metadata": {
        "id": "l8HSgT1mhtex"
      },
      "source": [
        "results = model.transform(sdf)"
      ],
      "execution_count": null,
      "outputs": []
    },
    {
      "cell_type": "code",
      "metadata": {
        "colab": {
          "base_uri": "https://localhost:8080/"
        },
        "id": "QnrYeoQqh0Uo",
        "outputId": "b3625b23-41c2-4f29-c2dc-48ed78b0bfa7"
      },
      "source": [
        "results.show()"
      ],
      "execution_count": null,
      "outputs": [
        {
          "output_type": "stream",
          "text": [
            "+--------------------+--------------------+--------------------+----------------------+--------------------+--------------------+----------+\n",
            "|      original_title|            overview|              tokens|stopWordsRemovedTokens|         rawFeatures|            features|prediction|\n",
            "+--------------------+--------------------+--------------------+----------------------+--------------------+--------------------+----------+\n",
            "|           Toy Story|Led by Woody, And...|[led, by, woody,,...|  [led, woody,, and...|(2000,[87,189,295...|(2000,[87,189,295...|         0|\n",
            "|             Jumanji|When siblings Jud...|[when, siblings, ...|  [siblings, judy, ...|(2000,[0,72,170,2...|(2000,[0,72,170,2...|         0|\n",
            "|    Grumpier Old Men|A family wedding ...|[a, family, weddi...|  [family, wedding,...|(2000,[66,104,129...|(2000,[66,104,129...|         0|\n",
            "|   Waiting to Exhale|Cheated on, mistr...|[cheated, on,, mi...|  [cheated, on,, mi...|(2000,[86,111,417...|(2000,[86,111,417...|         0|\n",
            "|Father of the Bri...|Just when George ...|[just, when, geor...|  [george, banks, r...|(2000,[75,123,177...|(2000,[75,123,177...|         0|\n",
            "|                Heat|Obsessive master ...|[obsessive, maste...|  [obsessive, maste...|(2000,[43,92,155,...|(2000,[43,92,155,...|         0|\n",
            "|             Sabrina|An ugly duckling ...|[an, ugly, duckli...|  [ugly, duckling, ...|(2000,[108,209,29...|(2000,[108,209,29...|         0|\n",
            "|        Tom and Huck|A mischievous you...|[a, mischievous, ...|  [mischievous, you...|(2000,[31,33,157,...|(2000,[31,33,157,...|         0|\n",
            "|        Sudden Death|International act...|[international, a...|  [international, a...|(2000,[123,132,18...|(2000,[123,132,18...|         1|\n",
            "|           GoldenEye|James Bond must u...|[james, bond, mus...|  [james, bond, mus...|(2000,[119,277,33...|(2000,[119,277,33...|         0|\n",
            "|The American Pres...|Widowed U.S. pres...|[widowed, u.s., p...|  [widowed, u.s., p...|(2000,[49,101,114...|(2000,[49,101,114...|         0|\n",
            "|Dracula: Dead and...|When a lawyer sho...|[when, a, lawyer,...|  [lawyer, shows, v...|(2000,[153,265,34...|(2000,[153,265,34...|         0|\n",
            "|               Balto|An outcast half-w...|[an, outcast, hal...|  [outcast, half-wo...|(2000,[72,498,791...|(2000,[72,498,791...|         0|\n",
            "|               Nixon|An all-star cast ...|[an, all-star, ca...|  [all-star, cast, ...|(2000,[52,63,92,9...|(2000,[52,63,92,9...|         0|\n",
            "|    Cutthroat Island|Morgan Adams and ...|[morgan, adams, a...|  [morgan, adams, s...|(2000,[37,50,98,1...|(2000,[37,50,98,1...|         0|\n",
            "|              Casino|The life of the g...|[the, life, of, t...|  [life, gambling, ...|(2000,[697,706,81...|(2000,[697,706,81...|         0|\n",
            "|Sense and Sensibi...|Rich Mr. Dashwood...|[rich, mr., dashw...|  [rich, mr., dashw...|(2000,[103,212,72...|(2000,[103,212,72...|         0|\n",
            "|          Four Rooms|It's Ted the Bell...|[it's, ted, the, ...|  [ted, bellhop's, ...|(2000,[184,252,28...|(2000,[184,252,28...|         0|\n",
            "|Ace Ventura: When...|Summoned from an ...|[summoned, from, ...|  [summoned, ashram...|(2000,[126,298,32...|(2000,[126,298,32...|         0|\n",
            "|         Money Train|A vengeful New Yo...|[a, vengeful, new...|  [vengeful, new, y...|(2000,[12,276,360...|(2000,[12,276,360...|         0|\n",
            "+--------------------+--------------------+--------------------+----------------------+--------------------+--------------------+----------+\n",
            "only showing top 20 rows\n",
            "\n"
          ],
          "name": "stdout"
        }
      ]
    },
    {
      "cell_type": "code",
      "metadata": {
        "colab": {
          "base_uri": "https://localhost:8080/",
          "height": 425
        },
        "id": "pYdaMqGYh8qN",
        "outputId": "a8d06841-bdd5-4ba5-d0a1-f2c003737d8d"
      },
      "source": [
        "sdf1 = results.select(\"original_title\",\"prediction\")\n",
        "sdf2 = sdf1.toPandas()\n",
        "sdf2 = sdf2.groupby(['prediction'])['original_title'].apply(lambda x: ','.join(x)).reset_index()\n",
        "sdf2 = sdf2.rename(columns={\"prediction\": \"Cluster Number\", \"original_title\": \"Movie name\"})\n",
        "sdf2"
      ],
      "execution_count": null,
      "outputs": [
        {
          "output_type": "execute_result",
          "data": {
            "text/html": [
              "<div>\n",
              "<style scoped>\n",
              "    .dataframe tbody tr th:only-of-type {\n",
              "        vertical-align: middle;\n",
              "    }\n",
              "\n",
              "    .dataframe tbody tr th {\n",
              "        vertical-align: top;\n",
              "    }\n",
              "\n",
              "    .dataframe thead th {\n",
              "        text-align: right;\n",
              "    }\n",
              "</style>\n",
              "<table border=\"1\" class=\"dataframe\">\n",
              "  <thead>\n",
              "    <tr style=\"text-align: right;\">\n",
              "      <th></th>\n",
              "      <th>Cluster Number</th>\n",
              "      <th>Movie name</th>\n",
              "    </tr>\n",
              "  </thead>\n",
              "  <tbody>\n",
              "    <tr>\n",
              "      <th>0</th>\n",
              "      <td>0</td>\n",
              "      <td>Toy Story,Jumanji,Grumpier Old Men,Waiting to ...</td>\n",
              "    </tr>\n",
              "    <tr>\n",
              "      <th>1</th>\n",
              "      <td>1</td>\n",
              "      <td>Sudden Death,Get Shorty,Assassins,Persuasion,D...</td>\n",
              "    </tr>\n",
              "    <tr>\n",
              "      <th>2</th>\n",
              "      <td>2</td>\n",
              "      <td>Москва,Il signor Robinson, mostruosa storia d'...</td>\n",
              "    </tr>\n",
              "    <tr>\n",
              "      <th>3</th>\n",
              "      <td>3</td>\n",
              "      <td>La machine,Sappho,Miss Lulu Bett,ఒక్కడు</td>\n",
              "    </tr>\n",
              "    <tr>\n",
              "      <th>4</th>\n",
              "      <td>4</td>\n",
              "      <td>A Month by the Lake,Hedd Wyn,The Lady Vanishes...</td>\n",
              "    </tr>\n",
              "    <tr>\n",
              "      <th>5</th>\n",
              "      <td>5</td>\n",
              "      <td>Höstsonaten,Mermaids,Milka - elokuva tabuista,...</td>\n",
              "    </tr>\n",
              "    <tr>\n",
              "      <th>6</th>\n",
              "      <td>6</td>\n",
              "      <td>Ricomincio da tre,Mer om Oss Barn i Bullerbyn,...</td>\n",
              "    </tr>\n",
              "    <tr>\n",
              "      <th>7</th>\n",
              "      <td>7</td>\n",
              "      <td>FC Venus</td>\n",
              "    </tr>\n",
              "    <tr>\n",
              "      <th>8</th>\n",
              "      <td>8</td>\n",
              "      <td>Sonic Outlaws,The Net,Three Wishes,Even Cowgir...</td>\n",
              "    </tr>\n",
              "    <tr>\n",
              "      <th>9</th>\n",
              "      <td>9</td>\n",
              "      <td>Courage</td>\n",
              "    </tr>\n",
              "    <tr>\n",
              "      <th>10</th>\n",
              "      <td>10</td>\n",
              "      <td>Lady Killers</td>\n",
              "    </tr>\n",
              "    <tr>\n",
              "      <th>11</th>\n",
              "      <td>11</td>\n",
              "      <td>Guardian Angel,Last Summer in the Hamptons,A M...</td>\n",
              "    </tr>\n",
              "  </tbody>\n",
              "</table>\n",
              "</div>"
            ],
            "text/plain": [
              "    Cluster Number                                         Movie name\n",
              "0                0  Toy Story,Jumanji,Grumpier Old Men,Waiting to ...\n",
              "1                1  Sudden Death,Get Shorty,Assassins,Persuasion,D...\n",
              "2                2  Москва,Il signor Robinson, mostruosa storia d'...\n",
              "3                3            La machine,Sappho,Miss Lulu Bett,ఒక్కడు\n",
              "4                4  A Month by the Lake,Hedd Wyn,The Lady Vanishes...\n",
              "5                5  Höstsonaten,Mermaids,Milka - elokuva tabuista,...\n",
              "6                6  Ricomincio da tre,Mer om Oss Barn i Bullerbyn,...\n",
              "7                7                                           FC Venus\n",
              "8                8  Sonic Outlaws,The Net,Three Wishes,Even Cowgir...\n",
              "9                9                                            Courage\n",
              "10              10                                       Lady Killers\n",
              "11              11  Guardian Angel,Last Summer in the Hamptons,A M..."
            ]
          },
          "metadata": {
            "tags": []
          },
          "execution_count": 25
        }
      ]
    },
    {
      "cell_type": "code",
      "metadata": {
        "id": "YpId1nCemvDA"
      },
      "source": [
        "sdf2.to_csv(r'/content/drive/My Drive/recom.csv')\n",
        "sdf2 = pd.read_csv('/content/drive/My Drive/recom.csv')"
      ],
      "execution_count": null,
      "outputs": []
    },
    {
      "cell_type": "code",
      "metadata": {
        "id": "TOTt0QxDm5eu"
      },
      "source": [
        "def search(a):\n",
        "  l = [(a, )]\n",
        "  gh = spark.createDataFrame(l, ['overview'])\n",
        "  pred = model.transform(gh)\n",
        "  output = pred.collect()[0]['prediction']\n",
        "  fin = sdf2.loc[sdf2['Cluster Number'] == output]\n",
        "  fin1 = fin['Movie name'].values[0]\n",
        "  fin1 = fin1.split(',')\n",
        "  return fin1"
      ],
      "execution_count": null,
      "outputs": []
    },
    {
      "cell_type": "code",
      "metadata": {
        "id": "HUoGbWAfnvco"
      },
      "source": [
        "def unique(a):\n",
        "  uni = []\n",
        "  for i in a:\n",
        "    if i not in uni:\n",
        "      uni.append(i)\n",
        "  return uni"
      ],
      "execution_count": null,
      "outputs": []
    },
    {
      "cell_type": "code",
      "metadata": {
        "colab": {
          "base_uri": "https://localhost:8080/"
        },
        "id": "Ycp3ira1n3TZ",
        "outputId": "028f539f-5216-4321-c37b-f4b5d37e3e47"
      },
      "source": [
        "a = input(\"Enter movie names to find similar movies: \")\n",
        "search(a)\n",
        "unique(search(a))[:20]"
      ],
      "execution_count": null,
      "outputs": [
        {
          "output_type": "stream",
          "text": [
            "Enter movie names to find similar movies: Heat\n"
          ],
          "name": "stdout"
        },
        {
          "output_type": "execute_result",
          "data": {
            "text/plain": [
              "['Toy Story',\n",
              " 'Jumanji',\n",
              " 'Grumpier Old Men',\n",
              " 'Waiting to Exhale',\n",
              " 'Father of the Bride Part II',\n",
              " 'Heat',\n",
              " 'Sabrina',\n",
              " 'Tom and Huck',\n",
              " 'GoldenEye',\n",
              " 'The American President',\n",
              " 'Dracula: Dead and Loving It',\n",
              " 'Balto',\n",
              " 'Nixon',\n",
              " 'Cutthroat Island',\n",
              " 'Casino',\n",
              " 'Sense and Sensibility',\n",
              " 'Four Rooms',\n",
              " 'Ace Ventura: When Nature Calls',\n",
              " 'Money Train',\n",
              " 'Copycat']"
            ]
          },
          "metadata": {
            "tags": []
          },
          "execution_count": 29
        }
      ]
    }
  ]
}