{
  "nbformat": 4,
  "nbformat_minor": 0,
  "metadata": {
    "colab": {
      "name": "ALS_model.ipynb",
      "provenance": [],
      "include_colab_link": true
    },
    "kernelspec": {
      "name": "python3",
      "display_name": "Python 3"
    }
  },
  "cells": [
    {
      "cell_type": "markdown",
      "metadata": {
        "id": "view-in-github",
        "colab_type": "text"
      },
      "source": [
        "<a href=\"https://colab.research.google.com/github/abhilashhn1993/movie-recommendation-engine/blob/main/ALS_model.ipynb\" target=\"_parent\"><img src=\"https://colab.research.google.com/assets/colab-badge.svg\" alt=\"Open In Colab\"/></a>"
      ]
    },
    {
      "cell_type": "code",
      "metadata": {
        "colab": {
          "base_uri": "https://localhost:8080/"
        },
        "id": "H7eH98h4vCzC",
        "outputId": "e5ff1e8b-7a64-4e10-b58c-cd8ef3e991b5"
      },
      "source": [
        "from google.colab import drive\n",
        "drive.mount('/content/drive')"
      ],
      "execution_count": null,
      "outputs": [
        {
          "output_type": "stream",
          "text": [
            "Mounted at /content/drive\n"
          ],
          "name": "stdout"
        }
      ]
    },
    {
      "cell_type": "markdown",
      "metadata": {
        "id": "sHX3uRROvOM9"
      },
      "source": [
        "Installing the dependencies"
      ]
    },
    {
      "cell_type": "code",
      "metadata": {
        "id": "aN17TM8MvGDK"
      },
      "source": [
        "#Java JDK\n",
        "!apt-get install openjdk-8-jdk-headless -qq > /dev/null\n",
        "#Downloading Spark\n",
        "!wget -q http://apache.mirrors.pair.com/spark/spark-3.0.1/spark-3.0.1-bin-hadoop3.2.tgz \n",
        "#Unzipping the hadoop file\n",
        "!tar -xvf spark-3.0.1-bin-hadoop3.2.tgz"
      ],
      "execution_count": null,
      "outputs": []
    },
    {
      "cell_type": "code",
      "metadata": {
        "id": "iM_upazHvTpQ"
      },
      "source": [
        "#Fetching the MovieLens dataset\n",
        "!wget http://files.grouplens.org/datasets/movielens/ml-latest.zip"
      ],
      "execution_count": null,
      "outputs": []
    },
    {
      "cell_type": "code",
      "metadata": {
        "id": "IQ5yEQbxw0w2"
      },
      "source": [
        "#Unzip the file\n",
        "!unzip ml-latest.zip"
      ],
      "execution_count": null,
      "outputs": []
    },
    {
      "cell_type": "code",
      "metadata": {
        "id": "rwGD8_D5xLSQ"
      },
      "source": [
        "###################### SPARK SETUP ################################\n",
        "#Install findspark\n",
        "!pip install -q findspark"
      ],
      "execution_count": null,
      "outputs": []
    },
    {
      "cell_type": "code",
      "metadata": {
        "id": "53FtNDAXM3uM"
      },
      "source": [
        "#Setting up environment variables\n",
        "import os\n",
        "os.environ[\"JAVA_HOME\"] = \"/usr/lib/jvm/java-8-openjdk-amd64\"\n",
        "os.environ[\"SPARK_HOME\"] = \"/content/spark-3.0.1-bin-hadoop3.2\""
      ],
      "execution_count": null,
      "outputs": []
    },
    {
      "cell_type": "code",
      "metadata": {
        "id": "qZ6ds9nCM5Fg"
      },
      "source": [
        "#Initialize Spark session using findspark lib\n",
        "import findspark\n",
        "findspark.init()\n",
        "from pyspark.sql import SparkSession\n",
        "spark = SparkSession.builder.master(\"local[*]\").getOrCreate()"
      ],
      "execution_count": null,
      "outputs": []
    },
    {
      "cell_type": "markdown",
      "metadata": {
        "id": "OeDu4rYBNB7D"
      },
      "source": [
        "Read the data file"
      ]
    },
    {
      "cell_type": "code",
      "metadata": {
        "id": "WYjdzhHexdzv"
      },
      "source": [
        "#setting the path of the files\n",
        "ratings_file ='/content/ml-latest/ratings.csv'\n",
        "movies_file = '/content/ml-latest/movies.csv'\n",
        "links_file = '/content/ml-latest/links.csv'"
      ],
      "execution_count": null,
      "outputs": []
    },
    {
      "cell_type": "code",
      "metadata": {
        "id": "o04PGoLg2q0-"
      },
      "source": [
        "def readFiles(filename):\n",
        "  data = spark.read.format('com.databricks.spark.csv').\\\n",
        "                               options(header='true', \\\n",
        "                               inferschema='true').\\\n",
        "                load(filename,header=True)\n",
        "  return data"
      ],
      "execution_count": null,
      "outputs": []
    },
    {
      "cell_type": "code",
      "metadata": {
        "id": "to16VFWx24wo"
      },
      "source": [
        "#Read the data files\n",
        "ratings = readFiles(ratings_file)\n",
        "movies = readFiles(movies_file)\n",
        "links = readFiles(links_file)"
      ],
      "execution_count": null,
      "outputs": []
    },
    {
      "cell_type": "code",
      "metadata": {
        "colab": {
          "base_uri": "https://localhost:8080/"
        },
        "id": "s7PYuO1gOyFv",
        "outputId": "1a1823e5-39d3-423a-e5d9-bfd929f4ac77"
      },
      "source": [
        "ratings.show(5)"
      ],
      "execution_count": null,
      "outputs": [
        {
          "output_type": "stream",
          "text": [
            "+------+-------+------+----------+\n",
            "|userId|movieId|rating| timestamp|\n",
            "+------+-------+------+----------+\n",
            "|     1|    307|   3.5|1256677221|\n",
            "|     1|    481|   3.5|1256677456|\n",
            "|     1|   1091|   1.5|1256677471|\n",
            "|     1|   1257|   4.5|1256677460|\n",
            "|     1|   1449|   4.5|1256677264|\n",
            "+------+-------+------+----------+\n",
            "only showing top 5 rows\n",
            "\n"
          ],
          "name": "stdout"
        }
      ]
    },
    {
      "cell_type": "code",
      "metadata": {
        "colab": {
          "base_uri": "https://localhost:8080/"
        },
        "id": "zssQDGWOOnIl",
        "outputId": "67dc3094-8fcd-4d43-9488-1c9bf29dd591"
      },
      "source": [
        "movies.show(5)"
      ],
      "execution_count": null,
      "outputs": [
        {
          "output_type": "stream",
          "text": [
            "+-------+--------------------+--------------------+\n",
            "|movieId|               title|              genres|\n",
            "+-------+--------------------+--------------------+\n",
            "|      1|    Toy Story (1995)|Adventure|Animati...|\n",
            "|      2|      Jumanji (1995)|Adventure|Childre...|\n",
            "|      3|Grumpier Old Men ...|      Comedy|Romance|\n",
            "|      4|Waiting to Exhale...|Comedy|Drama|Romance|\n",
            "|      5|Father of the Bri...|              Comedy|\n",
            "+-------+--------------------+--------------------+\n",
            "only showing top 5 rows\n",
            "\n"
          ],
          "name": "stdout"
        }
      ]
    },
    {
      "cell_type": "code",
      "metadata": {
        "colab": {
          "base_uri": "https://localhost:8080/"
        },
        "id": "U9mVh6cc6n6s",
        "outputId": "9a36999b-4727-4513-e5dd-28e5885f3158"
      },
      "source": [
        "links.show(5)"
      ],
      "execution_count": null,
      "outputs": [
        {
          "output_type": "stream",
          "text": [
            "+-------+------+------+\n",
            "|movieId|imdbId|tmdbId|\n",
            "+-------+------+------+\n",
            "|      1|114709|   862|\n",
            "|      2|113497|  8844|\n",
            "|      3|113228| 15602|\n",
            "|      4|114885| 31357|\n",
            "|      5|113041| 11862|\n",
            "+-------+------+------+\n",
            "only showing top 5 rows\n",
            "\n"
          ],
          "name": "stdout"
        }
      ]
    },
    {
      "cell_type": "code",
      "metadata": {
        "id": "o1E5Bdw6yZqX"
      },
      "source": [
        "#We will consider ratings file as the file of interest as it has the rating values\n",
        "#checking the schema\n",
        "ratings.printSchema()"
      ],
      "execution_count": null,
      "outputs": []
    },
    {
      "cell_type": "code",
      "metadata": {
        "colab": {
          "base_uri": "https://localhost:8080/"
        },
        "id": "9DdH5Q5MNoVv",
        "outputId": "c0b70da1-1f44-49c9-f620-81108af1f98f"
      },
      "source": [
        "#Data dimensions\n",
        "print('No. of rows: %d' % ratings.count())\n",
        "ratings.show(5)"
      ],
      "execution_count": null,
      "outputs": [
        {
          "output_type": "stream",
          "text": [
            "No. of rows: 27753444\n",
            "+------+-------+------+----------+\n",
            "|userId|movieId|rating| timestamp|\n",
            "+------+-------+------+----------+\n",
            "|     1|    307|   3.5|1256677221|\n",
            "|     1|    481|   3.5|1256677456|\n",
            "|     1|   1091|   1.5|1256677471|\n",
            "|     1|   1257|   4.5|1256677460|\n",
            "|     1|   1449|   4.5|1256677264|\n",
            "+------+-------+------+----------+\n",
            "only showing top 5 rows\n",
            "\n"
          ],
          "name": "stdout"
        }
      ]
    },
    {
      "cell_type": "code",
      "metadata": {
        "id": "4qE3dM6NzoTe"
      },
      "source": [
        "#Removing timestamp column, so dropping it\n",
        "data = ratings.drop(\"timestamp\")\n",
        "\n",
        "#print the schema now and check that timestamp column is dropped\n",
        "data.printSchema()"
      ],
      "execution_count": null,
      "outputs": []
    },
    {
      "cell_type": "code",
      "metadata": {
        "id": "Q-vC_GoK1eP0"
      },
      "source": [
        "# Randomly split the data into train and test where 80% data is in train and remaining is test\n",
        "train, test = data.randomSplit([0.8, 0.2])"
      ],
      "execution_count": null,
      "outputs": []
    },
    {
      "cell_type": "code",
      "metadata": {
        "id": "TeOcP6WF1c4c"
      },
      "source": [
        "from pyspark.ml.evaluation import RegressionEvaluator\n",
        "from pyspark.ml.recommendation import ALS"
      ],
      "execution_count": null,
      "outputs": []
    },
    {
      "cell_type": "code",
      "metadata": {
        "id": "Qi6pzSnF1jeh"
      },
      "source": [
        "# Build a recommendation model using Alternating Least Squares method\n",
        "# Evaluate the model by computing the RMSE on the test data\n",
        "model = ALS(userCol=\"userId\", itemCol=\"movieId\", ratingCol=\"rating\", nonnegative=True, coldStartStrategy=\"drop\").fit(train)\n",
        "\n",
        "from pyspark.ml.evaluation import RegressionEvaluator\n",
        "evaluator=RegressionEvaluator(metricName=\"rmse\",labelCol=\"rating\",predictionCol=\"prediction\")"
      ],
      "execution_count": null,
      "outputs": []
    },
    {
      "cell_type": "code",
      "metadata": {
        "colab": {
          "base_uri": "https://localhost:8080/"
        },
        "id": "UT8tZu1r3Lrz",
        "outputId": "a7558dae-276b-4bca-b5b9-8cb9e7fb2870"
      },
      "source": [
        "# Make predictions and print the RMSE of the ALS model\n",
        "predictions=model.transform(test)\n",
        "rmse=evaluator.evaluate(predictions)\n",
        "print(\"New RMSE: \", evaluator.evaluate(model.transform(test)))"
      ],
      "execution_count": null,
      "outputs": [
        {
          "output_type": "stream",
          "text": [
            "New RMSE:  0.8217521273769881\n"
          ],
          "name": "stdout"
        }
      ]
    },
    {
      "cell_type": "markdown",
      "metadata": {
        "id": "odqJ0CrT39gt"
      },
      "source": [
        "Implementing ALS with Cross Validation"
      ]
    },
    {
      "cell_type": "code",
      "metadata": {
        "id": "Pz_y1vdB1jmX"
      },
      "source": [
        "from pyspark.ml.tuning import CrossValidator\n",
        "from pyspark.ml.tuning import ParamGridBuilder"
      ],
      "execution_count": null,
      "outputs": []
    },
    {
      "cell_type": "code",
      "metadata": {
        "id": "p0rdQSdB4FNu"
      },
      "source": [
        "# Now we try to improve the performance of the original model using cross validation and solve the cold-start problem.\n",
        "# we set cold start strategy to 'drop' to ensure we don't get NaN evaluation metrics\n",
        "\n",
        "model = ALS(userCol=\"userId\", itemCol=\"movieId\", ratingCol=\"rating\", nonnegative = True, coldStartStrategy=\"drop\")\n",
        "\n",
        "#For Parameter tuning of the ALS model we use ParamGridBuilder function\n",
        "#We tune two parameters \n",
        "#1. The Regularization parameter ranging from 0.1, 0.01, 0.001, 0.0001\n",
        "#2. The rank for matrix factorization\n",
        "paramGrid = ParamGridBuilder() \\\n",
        "    .addGrid(model.regParam, [0.1, 0.05, 0.01, 0.001]) \\\n",
        "    .addGrid(model.rank, [5, 10, 20, 30]) \\\n",
        "    .build()\n",
        "\n",
        "#Defining a cross-validator object\n",
        "#Setting up CV and adding parameters. We will be performing a 5 fold CV\n",
        "crossvalidation = CrossValidator(estimator = model,\n",
        "                     estimatorParamMaps = paramGrid,\n",
        "                     evaluator = evaluator,\n",
        "                     numFolds=5)"
      ],
      "execution_count": null,
      "outputs": []
    },
    {
      "cell_type": "code",
      "metadata": {
        "id": "pAjR3o5u3b7T"
      },
      "source": [
        "# Run cross-validation, and choose the best set of parameters.\n",
        "Best_model = crossvalidation.fit(train).bestModel"
      ],
      "execution_count": null,
      "outputs": []
    },
    {
      "cell_type": "markdown",
      "metadata": {
        "id": "Pm3mIliKwS08"
      },
      "source": [
        "Printing the Best Model's parameter values"
      ]
    },
    {
      "cell_type": "code",
      "metadata": {
        "colab": {
          "base_uri": "https://localhost:8080/"
        },
        "id": "bM3m_lTcwDdN",
        "outputId": "1b9c077c-1ea2-4c91-9d53-42f643a95c30"
      },
      "source": [
        "#The Best_model\n",
        "print(type(Best_model))\n",
        "#Complete the code below to extract the ALS model parameters\n",
        "print(\"**Best Model**\")\n",
        "#Rank\n",
        "print(\"Rank: \", Best_model._java_obj.parent().getRank())\n",
        "#MaxIter\n",
        "print(\"MaxIter: \", Best_model._java_obj.parent().getMaxIter())\n",
        "#RegParam\n",
        "print(\"RegParam: \", Best_model._java_obj.parent().getRegParam())"
      ],
      "execution_count": null,
      "outputs": [
        {
          "output_type": "stream",
          "text": [
            "<class 'pyspark.ml.recommendation.ALSModel'>\n",
            "**Best Model**\n",
            "Rank:  30\n",
            "MaxIter:  10\n",
            "RegParam:  0.05\n"
          ],
          "name": "stdout"
        }
      ]
    },
    {
      "cell_type": "code",
      "metadata": {
        "colab": {
          "base_uri": "https://localhost:8080/"
        },
        "id": "YosRLWoi3dSL",
        "outputId": "d9c6bb29-dcfd-4a01-94fa-d7b01e713bac"
      },
      "source": [
        "# Calculate the RMSE on test data using the best set of parameters obtained after cross validation\n",
        "print(\"Best RMSE value is: \", evaluator.evaluate(Best_model.transform(test)))"
      ],
      "execution_count": null,
      "outputs": [
        {
          "output_type": "stream",
          "text": [
            "Best RMSE value is:  0.8037012461211825\n"
          ],
          "name": "stdout"
        }
      ]
    },
    {
      "cell_type": "markdown",
      "metadata": {
        "id": "T-2fLXjynSF9"
      },
      "source": [
        "Checking Predictions on the test set"
      ]
    },
    {
      "cell_type": "code",
      "metadata": {
        "colab": {
          "base_uri": "https://localhost:8080/"
        },
        "id": "jX6yJ_xxmYLG",
        "outputId": "812f4c7d-85d9-44c9-feee-a08895c64640"
      },
      "source": [
        "pred = Best_model.transform(test)\n",
        "pred.show(10)"
      ],
      "execution_count": null,
      "outputs": [
        {
          "output_type": "stream",
          "text": [
            "+------+-------+------+----------+\n",
            "|userId|movieId|rating|prediction|\n",
            "+------+-------+------+----------+\n",
            "|107339|    148|   4.0| 3.3288345|\n",
            "| 93112|    148|   3.0| 2.9263139|\n",
            "|106148|    148|   2.5| 2.7871637|\n",
            "|234926|    148|   4.0| 2.7707722|\n",
            "|253535|    148|   4.0| 2.7711174|\n",
            "|207939|    148|   3.0| 2.8659055|\n",
            "|220572|    148|   2.0| 2.7842884|\n",
            "|244192|    148|   3.0| 3.0389357|\n",
            "|102642|    148|   4.0|   3.34515|\n",
            "|275860|    148|   3.0| 2.8727908|\n",
            "+------+-------+------+----------+\n",
            "only showing top 10 rows\n",
            "\n"
          ],
          "name": "stdout"
        }
      ]
    },
    {
      "cell_type": "code",
      "metadata": {
        "colab": {
          "base_uri": "https://localhost:8080/"
        },
        "id": "D16XA0LgmyVC",
        "outputId": "d8fb2761-e82f-40db-f61d-8457c7a921f2"
      },
      "source": [
        "pred.join(movies, \"movieId\").select(\"userId\",\"title\",\"genres\",\"prediction\").show(5)"
      ],
      "execution_count": null,
      "outputs": [
        {
          "output_type": "stream",
          "text": [
            "+------+--------------------+------+----------+\n",
            "|userId|               title|genres|prediction|\n",
            "+------+--------------------+------+----------+\n",
            "|107339|Awfully Big Adven...| Drama| 3.3288345|\n",
            "| 93112|Awfully Big Adven...| Drama| 2.9263139|\n",
            "|106148|Awfully Big Adven...| Drama| 2.7871637|\n",
            "|234926|Awfully Big Adven...| Drama| 2.7707722|\n",
            "|253535|Awfully Big Adven...| Drama| 2.7711174|\n",
            "+------+--------------------+------+----------+\n",
            "only showing top 5 rows\n",
            "\n"
          ],
          "name": "stdout"
        }
      ]
    },
    {
      "cell_type": "code",
      "metadata": {
        "colab": {
          "base_uri": "https://localhost:8080/"
        },
        "id": "qs1sTHK0ptmx",
        "outputId": "cfcc6990-c5dc-4381-9467-d5ce4473a0bb"
      },
      "source": [
        "for_an_user = pred.where(pred.userId==234926).join(movies, \"movieId\").join(links, \"movieId\").select(\"userId\",\"title\",\"tmdbId\",\"genres\",\"prediction\")\n",
        "for_an_user.show(5)"
      ],
      "execution_count": null,
      "outputs": [
        {
          "output_type": "stream",
          "text": [
            "+------+--------------------+------+--------------+----------+\n",
            "|userId|               title|tmdbId|        genres|prediction|\n",
            "+------+--------------------+------+--------------+----------+\n",
            "|234926|Awfully Big Adven...| 22279|         Drama| 2.7707722|\n",
            "|234926|Angels and Insect...|  8447| Drama|Romance| 3.3438826|\n",
            "|234926|     Spy Hard (1996)| 10535|        Comedy| 2.2870703|\n",
            "|234926|    Barcelona (1994)| 16771|Comedy|Romance| 3.3588824|\n",
            "|234926|    Tommy Boy (1995)| 11381|        Comedy| 2.4864728|\n",
            "+------+--------------------+------+--------------+----------+\n",
            "only showing top 5 rows\n",
            "\n"
          ],
          "name": "stdout"
        }
      ]
    },
    {
      "cell_type": "code",
      "metadata": {
        "id": "zP8wkZAroFuj"
      },
      "source": [
        "from IPython.display import Image\n",
        "from IPython.display import display"
      ],
      "execution_count": null,
      "outputs": []
    },
    {
      "cell_type": "code",
      "metadata": {
        "colab": {
          "base_uri": "https://localhost:8080/"
        },
        "id": "h35veiCWqj8o",
        "outputId": "9530afec-a107-42a9-d0d1-f8975c296fc4"
      },
      "source": [
        "import webbrowser\n",
        "link = \"https://www.themoviedb.org/movie\"\n",
        "for movie in for_an_user.take(2):\n",
        "  url = link+str(movie.tmdbId)\n",
        "  print(movie.title)\n",
        "  webbrowser.open(url)"
      ],
      "execution_count": null,
      "outputs": [
        {
          "output_type": "stream",
          "text": [
            "Awfully Big Adventure, An (1995)\n",
            "Aladdin (1992)\n"
          ],
          "name": "stdout"
        }
      ]
    },
    {
      "cell_type": "markdown",
      "metadata": {
        "id": "VTK7F-V80xm8"
      },
      "source": [
        "Retreive results and Writing into a csv file"
      ]
    },
    {
      "cell_type": "code",
      "metadata": {
        "id": "5vyUYIwMcKEb"
      },
      "source": [
        "# Get top 10 movie recommendations for all users\n",
        "movie_recommendation = Best_model.recommendForAllUsers(10)\n",
        "movie_recommendation.show()\n",
        "import pandas as pd\n",
        "movie_recommendation = movie_recommendation.toPandas()"
      ],
      "execution_count": null,
      "outputs": []
    },
    {
      "cell_type": "code",
      "metadata": {
        "id": "ibjPBiEV8RsJ"
      },
      "source": [
        "#Get recommendations for all the users into a dataframe\n",
        "user_list = []\n",
        "recommendations = []\n",
        "\n",
        "for i in range(len(movie_recommendation)):\n",
        "  user_list.append(movie_recommendation.iloc[i,0])\n",
        "  user_recommendations = \"\" \n",
        "  \n",
        "  #Get item IDs from the recommendations\n",
        "  for item in movie_recommendation.iloc[i,1]:\n",
        "     user_recommendations = user_recommendations + \", \" + str(item.asDict()[\"movieId\"])\n",
        "\n",
        "  #Append the item IDs to recommendations list\n",
        "  recommendations.append(user_recommendations[2:])\n",
        "\n",
        "#Convert results into a dataframe\n",
        "recommendations_df = pd.DataFrame(data = zip(user_list, recommendations), columns=[\"user\", \"MovieID\"])"
      ],
      "execution_count": null,
      "outputs": []
    },
    {
      "cell_type": "code",
      "metadata": {
        "colab": {
          "base_uri": "https://localhost:8080/",
          "height": 343
        },
        "id": "5veaQQsLEclr",
        "outputId": "0b990c92-e548-4aac-ae9b-7718cdc3e08a"
      },
      "source": [
        "#Check the users and the top 10 movie recommendations for the first 10 users\n",
        "recommendations_df.head(10)"
      ],
      "execution_count": null,
      "outputs": [
        {
          "output_type": "execute_result",
          "data": {
            "text/html": [
              "<div>\n",
              "<style scoped>\n",
              "    .dataframe tbody tr th:only-of-type {\n",
              "        vertical-align: middle;\n",
              "    }\n",
              "\n",
              "    .dataframe tbody tr th {\n",
              "        vertical-align: top;\n",
              "    }\n",
              "\n",
              "    .dataframe thead th {\n",
              "        text-align: right;\n",
              "    }\n",
              "</style>\n",
              "<table border=\"1\" class=\"dataframe\">\n",
              "  <thead>\n",
              "    <tr style=\"text-align: right;\">\n",
              "      <th></th>\n",
              "      <th>user</th>\n",
              "      <th>MovieID</th>\n",
              "    </tr>\n",
              "  </thead>\n",
              "  <tbody>\n",
              "    <tr>\n",
              "      <th>0</th>\n",
              "      <td>148</td>\n",
              "      <td>188925, 188923, 128536, 153002, 145893, 152043...</td>\n",
              "    </tr>\n",
              "    <tr>\n",
              "      <th>1</th>\n",
              "      <td>463</td>\n",
              "      <td>188925, 188923, 191203, 153002, 185519, 180293...</td>\n",
              "    </tr>\n",
              "    <tr>\n",
              "      <th>2</th>\n",
              "      <td>471</td>\n",
              "      <td>188925, 188923, 183185, 191203, 190707, 153002...</td>\n",
              "    </tr>\n",
              "    <tr>\n",
              "      <th>3</th>\n",
              "      <td>496</td>\n",
              "      <td>188925, 188923, 149508, 191203, 183185, 76816,...</td>\n",
              "    </tr>\n",
              "    <tr>\n",
              "      <th>4</th>\n",
              "      <td>833</td>\n",
              "      <td>183185, 188925, 30764, 85205, 166812, 188923, ...</td>\n",
              "    </tr>\n",
              "    <tr>\n",
              "      <th>5</th>\n",
              "      <td>1088</td>\n",
              "      <td>188925, 183185, 188923, 162436, 137423, 181811...</td>\n",
              "    </tr>\n",
              "    <tr>\n",
              "      <th>6</th>\n",
              "      <td>1238</td>\n",
              "      <td>142891, 176517, 162436, 139140, 188925, 125786...</td>\n",
              "    </tr>\n",
              "    <tr>\n",
              "      <th>7</th>\n",
              "      <td>1342</td>\n",
              "      <td>182521, 115685, 128324, 2826, 140807, 77344, 1...</td>\n",
              "    </tr>\n",
              "    <tr>\n",
              "      <th>8</th>\n",
              "      <td>1580</td>\n",
              "      <td>188925, 188923, 125297, 181405, 191203, 183947...</td>\n",
              "    </tr>\n",
              "    <tr>\n",
              "      <th>9</th>\n",
              "      <td>1591</td>\n",
              "      <td>188925, 188923, 118095, 86952, 180129, 73826, ...</td>\n",
              "    </tr>\n",
              "  </tbody>\n",
              "</table>\n",
              "</div>"
            ],
            "text/plain": [
              "   user                                            MovieID\n",
              "0   148  188925, 188923, 128536, 153002, 145893, 152043...\n",
              "1   463  188925, 188923, 191203, 153002, 185519, 180293...\n",
              "2   471  188925, 188923, 183185, 191203, 190707, 153002...\n",
              "3   496  188925, 188923, 149508, 191203, 183185, 76816,...\n",
              "4   833  183185, 188925, 30764, 85205, 166812, 188923, ...\n",
              "5  1088  188925, 183185, 188923, 162436, 137423, 181811...\n",
              "6  1238  142891, 176517, 162436, 139140, 188925, 125786...\n",
              "7  1342  182521, 115685, 128324, 2826, 140807, 77344, 1...\n",
              "8  1580  188925, 188923, 125297, 181405, 191203, 183947...\n",
              "9  1591  188925, 188923, 118095, 86952, 180129, 73826, ..."
            ]
          },
          "metadata": {
            "tags": []
          },
          "execution_count": 42
        }
      ]
    },
    {
      "cell_type": "code",
      "metadata": {
        "id": "sd2e-aELMuKn"
      },
      "source": [
        "#write into a csv file\n",
        "recommendations_df.to_csv('/content/recommendation_results.txt', sep='\\t', index=False)"
      ],
      "execution_count": null,
      "outputs": []
    }
  ]
}