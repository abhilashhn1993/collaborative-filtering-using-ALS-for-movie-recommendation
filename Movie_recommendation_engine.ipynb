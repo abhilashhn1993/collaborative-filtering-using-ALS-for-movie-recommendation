{
  "nbformat": 4,
  "nbformat_minor": 0,
  "metadata": {
    "colab": {
      "name": "Movie-recommendation-engine.ipynb",
      "provenance": [],
      "authorship_tag": "ABX9TyPrBYhoJKDu4nNjCeux4F4B",
      "include_colab_link": true
    },
    "kernelspec": {
      "name": "python3",
      "display_name": "Python 3"
    }
  },
  "cells": [
    {
      "cell_type": "markdown",
      "metadata": {
        "id": "view-in-github",
        "colab_type": "text"
      },
      "source": [
        "<a href=\"https://colab.research.google.com/github/abhilashhn1993/movie-recommendation-engine/blob/main/Movie_recommendation_engine.ipynb\" target=\"_parent\"><img src=\"https://colab.research.google.com/assets/colab-badge.svg\" alt=\"Open In Colab\"/></a>"
      ]
    },
    {
      "cell_type": "code",
      "metadata": {
        "colab": {
          "base_uri": "https://localhost:8080/"
        },
        "id": "H7eH98h4vCzC",
        "outputId": "4319f8be-7507-4e00-ef03-78451d7aee0b"
      },
      "source": [
        "from google.colab import drive\n",
        "drive.mount('/content/drive')"
      ],
      "execution_count": 2,
      "outputs": [
        {
          "output_type": "stream",
          "text": [
            "Mounted at /content/drive\n"
          ],
          "name": "stdout"
        }
      ]
    },
    {
      "cell_type": "markdown",
      "metadata": {
        "id": "sHX3uRROvOM9"
      },
      "source": [
        "Installing the dependencies"
      ]
    },
    {
      "cell_type": "code",
      "metadata": {
        "id": "aN17TM8MvGDK"
      },
      "source": [
        "#Java JDK\n",
        "!apt-get install openjdk-8-jdk-headless -qq > /dev/null\n",
        "#Downloading Spark\n",
        "!wget -q http://apache.mirrors.pair.com/spark/spark-3.0.1/spark-3.0.1-bin-hadoop3.2.tgz \n",
        "#Unzipping the hadoop file\n",
        "!tar -xvf spark-3.0.1-bin-hadoop3.2.tgz"
      ],
      "execution_count": null,
      "outputs": []
    },
    {
      "cell_type": "code",
      "metadata": {
        "colab": {
          "base_uri": "https://localhost:8080/"
        },
        "id": "iM_upazHvTpQ",
        "outputId": "9cdd8997-63f1-4202-b21a-3248af053e22"
      },
      "source": [
        "#Fetching the MovieLens dataset\n",
        "!wget http://files.grouplens.org/datasets/movielens/ml-latest.zip"
      ],
      "execution_count": 4,
      "outputs": [
        {
          "output_type": "stream",
          "text": [
            "--2020-11-30 23:23:51--  http://files.grouplens.org/datasets/movielens/ml-latest.zip\n",
            "Resolving files.grouplens.org (files.grouplens.org)... 128.101.65.152\n",
            "Connecting to files.grouplens.org (files.grouplens.org)|128.101.65.152|:80... connected.\n",
            "HTTP request sent, awaiting response... 200 OK\n",
            "Length: 277113433 (264M) [application/zip]\n",
            "Saving to: ‘ml-latest.zip’\n",
            "\n",
            "ml-latest.zip       100%[===================>] 264.28M  76.3MB/s    in 3.7s    \n",
            "\n",
            "2020-11-30 23:23:55 (71.8 MB/s) - ‘ml-latest.zip’ saved [277113433/277113433]\n",
            "\n"
          ],
          "name": "stdout"
        }
      ]
    },
    {
      "cell_type": "code",
      "metadata": {
        "colab": {
          "base_uri": "https://localhost:8080/"
        },
        "id": "IQ5yEQbxw0w2",
        "outputId": "43c3e380-029b-4cd4-e8fc-2695e558f217"
      },
      "source": [
        "#Unzip the file\n",
        "!unzip ml-latest.zip"
      ],
      "execution_count": 5,
      "outputs": [
        {
          "output_type": "stream",
          "text": [
            "Archive:  ml-latest.zip\n",
            "   creating: ml-latest/\n",
            "  inflating: ml-latest/links.csv     \n",
            "  inflating: ml-latest/tags.csv      \n",
            "  inflating: ml-latest/genome-tags.csv  \n",
            "  inflating: ml-latest/ratings.csv   \n",
            "  inflating: ml-latest/README.txt    \n",
            "  inflating: ml-latest/genome-scores.csv  \n",
            "  inflating: ml-latest/movies.csv    \n"
          ],
          "name": "stdout"
        }
      ]
    },
    {
      "cell_type": "code",
      "metadata": {
        "id": "rwGD8_D5xLSQ"
      },
      "source": [
        "###################### SPARK SETUP ################################\n",
        "#Install findspark\n",
        "!pip install -q findspark"
      ],
      "execution_count": 59,
      "outputs": []
    },
    {
      "cell_type": "code",
      "metadata": {
        "id": "53FtNDAXM3uM"
      },
      "source": [
        "#Setting up environment variables\n",
        "import os\n",
        "os.environ[\"JAVA_HOME\"] = \"/usr/lib/jvm/java-8-openjdk-amd64\"\n",
        "os.environ[\"SPARK_HOME\"] = \"/content/spark-3.0.1-bin-hadoop3.2\""
      ],
      "execution_count": 60,
      "outputs": []
    },
    {
      "cell_type": "code",
      "metadata": {
        "id": "qZ6ds9nCM5Fg"
      },
      "source": [
        "#Initialize Spark session using findspark lib\n",
        "import findspark\n",
        "findspark.init()\n",
        "from pyspark.sql import SparkSession\n",
        "spark = SparkSession.builder.master(\"local[*]\").getOrCreate()"
      ],
      "execution_count": 61,
      "outputs": []
    },
    {
      "cell_type": "markdown",
      "metadata": {
        "id": "OeDu4rYBNB7D"
      },
      "source": [
        "Read the data file"
      ]
    },
    {
      "cell_type": "code",
      "metadata": {
        "id": "WYjdzhHexdzv"
      },
      "source": [
        "#get the ratings.csv file\n",
        "ratings ='/content/ml-latest/ratings.csv'\n",
        "movies = '/content/ml-latest/movies.csv'\n",
        "links = '/content/ml-latest/links.csv'"
      ],
      "execution_count": 62,
      "outputs": []
    },
    {
      "cell_type": "code",
      "metadata": {
        "id": "4KK9u_onyUsv"
      },
      "source": [
        "#Read the data files\n",
        "ratings = spark.read.format('com.databricks.spark.csv').\\\n",
        "                               options(header='true', \\\n",
        "                               inferschema='true').\\\n",
        "                load(ratings,header=True)\n",
        "              "
      ],
      "execution_count": 63,
      "outputs": []
    },
    {
      "cell_type": "code",
      "metadata": {
        "id": "0ZlN56AytPJN"
      },
      "source": [
        "movies = spark.read.format('com.databricks.spark.csv').\\\n",
        "                               options(header='true', \\\n",
        "                               inferschema='true').\\\n",
        "                load(movies,header=True)"
      ],
      "execution_count": 64,
      "outputs": []
    },
    {
      "cell_type": "code",
      "metadata": {
        "id": "AQfWdJ8OtkFk"
      },
      "source": [
        "links = spark.read.format('com.databricks.spark.csv').\\\n",
        "                               options(header='true', \\\n",
        "                               inferschema='true').\\\n",
        "                load(links,header=True)"
      ],
      "execution_count": 65,
      "outputs": []
    },
    {
      "cell_type": "code",
      "metadata": {
        "colab": {
          "base_uri": "https://localhost:8080/"
        },
        "id": "s7PYuO1gOyFv",
        "outputId": "9b18f46f-6ffb-4853-f399-81a2ad6058ff"
      },
      "source": [
        "ratings.show(5)"
      ],
      "execution_count": 28,
      "outputs": [
        {
          "output_type": "stream",
          "text": [
            "+------+-------+------+----------+\n",
            "|userId|movieId|rating| timestamp|\n",
            "+------+-------+------+----------+\n",
            "|     1|    307|   3.5|1256677221|\n",
            "|     1|    481|   3.5|1256677456|\n",
            "|     1|   1091|   1.5|1256677471|\n",
            "|     1|   1257|   4.5|1256677460|\n",
            "|     1|   1449|   4.5|1256677264|\n",
            "+------+-------+------+----------+\n",
            "only showing top 5 rows\n",
            "\n"
          ],
          "name": "stdout"
        }
      ]
    },
    {
      "cell_type": "code",
      "metadata": {
        "id": "f-IUrxEqOc-g"
      },
      "source": [
        ""
      ],
      "execution_count": 24,
      "outputs": []
    },
    {
      "cell_type": "code",
      "metadata": {
        "id": "AElIVr1goX0P"
      },
      "source": [
        "movie_df = spark.read.csv(\"/content/ml-latest/movies.csv\", inferSchema=True, header=True)"
      ],
      "execution_count": 40,
      "outputs": []
    },
    {
      "cell_type": "code",
      "metadata": {
        "colab": {
          "base_uri": "https://localhost:8080/"
        },
        "id": "zssQDGWOOnIl",
        "outputId": "987bbf2c-3554-45b0-bad8-da557682ed08"
      },
      "source": [
        "movies.show(5)"
      ],
      "execution_count": 25,
      "outputs": [
        {
          "output_type": "stream",
          "text": [
            "+-------+--------------------+--------------------+\n",
            "|movieId|               title|              genres|\n",
            "+-------+--------------------+--------------------+\n",
            "|      1|    Toy Story (1995)|Adventure|Animati...|\n",
            "|      2|      Jumanji (1995)|Adventure|Childre...|\n",
            "|      3|Grumpier Old Men ...|      Comedy|Romance|\n",
            "|      4|Waiting to Exhale...|Comedy|Drama|Romance|\n",
            "|      5|Father of the Bri...|              Comedy|\n",
            "+-------+--------------------+--------------------+\n",
            "only showing top 5 rows\n",
            "\n"
          ],
          "name": "stdout"
        }
      ]
    },
    {
      "cell_type": "code",
      "metadata": {
        "colab": {
          "base_uri": "https://localhost:8080/"
        },
        "id": "o1E5Bdw6yZqX",
        "outputId": "d1730f8e-ca26-4b49-8bf8-e61ac88ea440"
      },
      "source": [
        "#print the schema \n",
        "ratings.printSchema()"
      ],
      "execution_count": 9,
      "outputs": [
        {
          "output_type": "stream",
          "text": [
            "root\n",
            " |-- userId: integer (nullable = true)\n",
            " |-- movieId: integer (nullable = true)\n",
            " |-- rating: double (nullable = true)\n",
            " |-- timestamp: integer (nullable = true)\n",
            "\n"
          ],
          "name": "stdout"
        }
      ]
    },
    {
      "cell_type": "code",
      "metadata": {
        "colab": {
          "base_uri": "https://localhost:8080/"
        },
        "id": "9DdH5Q5MNoVv",
        "outputId": "e8917f10-ed8e-430f-e826-c0e9ba26849d"
      },
      "source": [
        "print('No. of rows: %d' % ratings.count())\n",
        "ratings.show(5)"
      ],
      "execution_count": 22,
      "outputs": [
        {
          "output_type": "stream",
          "text": [
            "No. of row: 27753444\n",
            "+------+-------+------+----------+\n",
            "|userId|movieId|rating| timestamp|\n",
            "+------+-------+------+----------+\n",
            "|     1|    307|   3.5|1256677221|\n",
            "|     1|    481|   3.5|1256677456|\n",
            "|     1|   1091|   1.5|1256677471|\n",
            "|     1|   1257|   4.5|1256677460|\n",
            "|     1|   1449|   4.5|1256677264|\n",
            "+------+-------+------+----------+\n",
            "only showing top 5 rows\n",
            "\n"
          ],
          "name": "stdout"
        }
      ]
    },
    {
      "cell_type": "code",
      "metadata": {
        "colab": {
          "base_uri": "https://localhost:8080/"
        },
        "id": "e2uVlDjIzHg3",
        "outputId": "6f100745-0b7c-4e26-8e89-ae514ecb48b5"
      },
      "source": [
        "#Check the top 20 rows of the data\n",
        "ratings.show()"
      ],
      "execution_count": 29,
      "outputs": [
        {
          "output_type": "stream",
          "text": [
            "+------+-------+------+----------+\n",
            "|userId|movieId|rating| timestamp|\n",
            "+------+-------+------+----------+\n",
            "|     1|    307|   3.5|1256677221|\n",
            "|     1|    481|   3.5|1256677456|\n",
            "|     1|   1091|   1.5|1256677471|\n",
            "|     1|   1257|   4.5|1256677460|\n",
            "|     1|   1449|   4.5|1256677264|\n",
            "|     1|   1590|   2.5|1256677236|\n",
            "|     1|   1591|   1.5|1256677475|\n",
            "|     1|   2134|   4.5|1256677464|\n",
            "|     1|   2478|   4.0|1256677239|\n",
            "|     1|   2840|   3.0|1256677500|\n",
            "|     1|   2986|   2.5|1256677496|\n",
            "|     1|   3020|   4.0|1256677260|\n",
            "|     1|   3424|   4.5|1256677444|\n",
            "|     1|   3698|   3.5|1256677243|\n",
            "|     1|   3826|   2.0|1256677210|\n",
            "|     1|   3893|   3.5|1256677486|\n",
            "|     2|    170|   3.5|1192913581|\n",
            "|     2|    849|   3.5|1192913537|\n",
            "|     2|   1186|   3.5|1192913611|\n",
            "|     2|   1235|   3.0|1192913585|\n",
            "+------+-------+------+----------+\n",
            "only showing top 20 rows\n",
            "\n"
          ],
          "name": "stdout"
        }
      ]
    },
    {
      "cell_type": "code",
      "metadata": {
        "colab": {
          "base_uri": "https://localhost:8080/"
        },
        "id": "4qE3dM6NzoTe",
        "outputId": "0f38f0c1-84b8-42a9-8124-128d0f729572"
      },
      "source": [
        "#Removing timestamp column, so dropping it\n",
        "data2 = ratings.drop(\"timestamp\")\n",
        "\n",
        "#print the schema now and check that timestamp column is dropped\n",
        "data2.printSchema()"
      ],
      "execution_count": 11,
      "outputs": [
        {
          "output_type": "stream",
          "text": [
            "root\n",
            " |-- userId: integer (nullable = true)\n",
            " |-- movieId: integer (nullable = true)\n",
            " |-- rating: double (nullable = true)\n",
            "\n"
          ],
          "name": "stdout"
        }
      ]
    },
    {
      "cell_type": "code",
      "metadata": {
        "id": "TeOcP6WF1c4c"
      },
      "source": [
        "from pyspark.ml.evaluation import RegressionEvaluator\n",
        "from pyspark.ml.recommendation import ALS"
      ],
      "execution_count": 12,
      "outputs": []
    },
    {
      "cell_type": "code",
      "metadata": {
        "id": "Q-vC_GoK1eP0"
      },
      "source": [
        "# Randomly split the data into train and test where 80% data is in train and remaining is test\n",
        "train, test = data2.randomSplit([0.8, 0.2])"
      ],
      "execution_count": 13,
      "outputs": []
    },
    {
      "cell_type": "code",
      "metadata": {
        "colab": {
          "base_uri": "https://localhost:8080/"
        },
        "id": "Qi6pzSnF1jeh",
        "outputId": "eb7a3d06-6a1e-4b26-9424-799a09f85b66"
      },
      "source": [
        "# Build a recommendation model using Alternating Least Squares\n",
        "# Evaluate the model by computing the RMSE on the test data\n",
        "model = ALS(userCol=\"userId\", itemCol=\"movieId\", ratingCol=\"rating\", nonnegative=True, coldStartStrategy=\"drop\").fit(train)\n",
        "from pyspark.ml.evaluation import RegressionEvaluator\n",
        "evaluator=RegressionEvaluator(metricName=\"rmse\",labelCol=\"rating\",predictionCol=\"prediction\")\n",
        "predictions=model.transform(test)\n",
        "rmse=evaluator.evaluate(predictions)\n",
        "\n",
        "\n",
        "# print the RMSE\n",
        "print(\"New RMSE: \", evaluator.evaluate(model.transform(test)))"
      ],
      "execution_count": 14,
      "outputs": [
        {
          "output_type": "stream",
          "text": [
            "New RMSE:  0.8252457183252592\n"
          ],
          "name": "stdout"
        }
      ]
    },
    {
      "cell_type": "code",
      "metadata": {
        "id": "Pz_y1vdB1jmX"
      },
      "source": [
        "from pyspark.ml.tuning import CrossValidator\n",
        "from pyspark.ml.tuning import ParamGridBuilder\n",
        "\n",
        "# Now we try to improve the performance of the original model using cross validation and solve the cold-start problem.\n",
        "# we set cold start strategy to 'drop' to ensure we don't get NaN evaluation metrics\n",
        "\n",
        "model = ALS(userCol=\"userId\", itemCol=\"movieId\", ratingCol=\"rating\", nonnegative = True, coldStartStrategy=\"drop\")\n",
        "\n",
        "# We use a ParamGridBuilder to construct a grid of parameters to search over.\n",
        "paramGrid = ParamGridBuilder() \\\n",
        "    .addGrid(model.regParam, [0.1, 0.01, 0.001, 0.0001]) \\\n",
        "    .addGrid(model.rank, [5, 10, 15, 20]) \\\n",
        "    .build()\n",
        "\n",
        "# Define a cross-validator object\n",
        "# A CrossValidator requires an Estimator, a set of Estimator ParamMaps, and an Evaluator.\n",
        "crossvalidation = CrossValidator(estimator = model,\n",
        "                     estimatorParamMaps = paramGrid,\n",
        "                     evaluator = evaluator,\n",
        "                     numFolds=5)"
      ],
      "execution_count": 15,
      "outputs": []
    },
    {
      "cell_type": "code",
      "metadata": {
        "id": "pAjR3o5u3b7T"
      },
      "source": [
        "# Run cross-validation, and choose the best set of parameters.\n",
        "Best_model = crossvalidation.fit(train).bestModel"
      ],
      "execution_count": 16,
      "outputs": []
    },
    {
      "cell_type": "markdown",
      "metadata": {
        "id": "Pm3mIliKwS08"
      },
      "source": [
        "Printing the Best Model's parameter values"
      ]
    },
    {
      "cell_type": "code",
      "metadata": {
        "colab": {
          "base_uri": "https://localhost:8080/"
        },
        "id": "bM3m_lTcwDdN",
        "outputId": "41248030-e856-4c6a-ee3d-dee3b34d394d"
      },
      "source": [
        "#Print best_model\n",
        "print(type(Best_model))\n",
        "\n",
        "#Complete the code below to extract the ALS model parameters\n",
        "print(\"**Best Model**\")\n",
        "\n",
        "#Print \"Rank\"\n",
        "print(\"  Rank:\", Best_model._java_obj.parent().getRank())\n",
        "\n",
        "#Print \"MaxIter\"\n",
        "print(\"  MaxIter:\", Best_model._java_obj.parent().getMaxIter())\n",
        "\n",
        "#Print \"RegParam\"\n",
        "print(\"  RegParam:\", Best_model._java_obj.parent().getRegParam())"
      ],
      "execution_count": 73,
      "outputs": [
        {
          "output_type": "stream",
          "text": [
            "<class 'pyspark.ml.recommendation.ALSModel'>\n",
            "**Best Model**\n",
            "  Rank: 20\n",
            "  MaxIter: 10\n",
            "  RegParam: 0.1\n"
          ],
          "name": "stdout"
        }
      ]
    },
    {
      "cell_type": "code",
      "metadata": {
        "colab": {
          "base_uri": "https://localhost:8080/"
        },
        "id": "YosRLWoi3dSL",
        "outputId": "4a8a6a7e-e828-487c-db37-ec100253ce93"
      },
      "source": [
        "# Calculate the RMSE on test data using the best set of parameters obtained after cross validation\n",
        "print(\"Best RMSE value is: \", evaluator.evaluate(Best_model.transform(test)))"
      ],
      "execution_count": 17,
      "outputs": [
        {
          "output_type": "stream",
          "text": [
            "Best RMSE value is:  0.8202128595787003\n"
          ],
          "name": "stdout"
        }
      ]
    },
    {
      "cell_type": "markdown",
      "metadata": {
        "id": "T-2fLXjynSF9"
      },
      "source": [
        "Checking Predictions"
      ]
    },
    {
      "cell_type": "code",
      "metadata": {
        "id": "jX6yJ_xxmYLG"
      },
      "source": [
        "pred = Best_model.transform(test)"
      ],
      "execution_count": 30,
      "outputs": []
    },
    {
      "cell_type": "code",
      "metadata": {
        "colab": {
          "base_uri": "https://localhost:8080/"
        },
        "id": "9g4Kir6zmiQL",
        "outputId": "46e6bdc6-1c69-4331-d2be-dd7437644566"
      },
      "source": [
        "pred.show(10)"
      ],
      "execution_count": 31,
      "outputs": [
        {
          "output_type": "stream",
          "text": [
            "+------+-------+------+----------+\n",
            "|userId|movieId|rating|prediction|\n",
            "+------+-------+------+----------+\n",
            "|234926|    148|   4.0| 2.9755378|\n",
            "| 50155|    148|   3.0|  2.947558|\n",
            "|207939|    148|   3.0|  2.674797|\n",
            "|220572|    148|   2.0| 2.7382836|\n",
            "|244192|    148|   3.0| 2.4370253|\n",
            "|108082|    148|   3.0| 2.7965746|\n",
            "| 60382|    148|   4.0| 3.3882828|\n",
            "| 28455|    148|   2.0|  2.379422|\n",
            "|117490|    148|   3.5| 2.6895547|\n",
            "|196553|    148|   2.5| 2.8994641|\n",
            "+------+-------+------+----------+\n",
            "only showing top 10 rows\n",
            "\n"
          ],
          "name": "stdout"
        }
      ]
    },
    {
      "cell_type": "code",
      "metadata": {
        "colab": {
          "base_uri": "https://localhost:8080/"
        },
        "id": "D16XA0LgmyVC",
        "outputId": "c1f2c400-6e1a-4f8b-95c6-ea8516313bf4"
      },
      "source": [
        "pred.join(movies, \"movieId\").select(\"userId\",\"title\",\"genres\",\"prediction\").show(5)"
      ],
      "execution_count": 32,
      "outputs": [
        {
          "output_type": "stream",
          "text": [
            "+------+--------------------+----------+\n",
            "|userId|               title|prediction|\n",
            "+------+--------------------+----------+\n",
            "|234926|Awfully Big Adven...| 2.9755378|\n",
            "| 50155|Awfully Big Adven...|  2.947558|\n",
            "|207939|Awfully Big Adven...|  2.674797|\n",
            "|220572|Awfully Big Adven...| 2.7382836|\n",
            "|244192|Awfully Big Adven...| 2.4370253|\n",
            "+------+--------------------+----------+\n",
            "only showing top 5 rows\n",
            "\n"
          ],
          "name": "stdout"
        }
      ]
    },
    {
      "cell_type": "code",
      "metadata": {
        "colab": {
          "base_uri": "https://localhost:8080/"
        },
        "id": "qs1sTHK0ptmx",
        "outputId": "f478aa08-e68a-45ea-8424-70cb24feea34"
      },
      "source": [
        "for_an_user = pred.where(pred.userId==234926).join(movies, \"movieId\").join(links, \"movieId\").select(\"userId\",\"title\",\"tmdbId\",\"genres\",\"prediction\")\n",
        "for_an_user.show(5)"
      ],
      "execution_count": 70,
      "outputs": [
        {
          "output_type": "stream",
          "text": [
            "+------+--------------------+------+--------------------+----------+\n",
            "|userId|               title|tmdbId|              genres|prediction|\n",
            "+------+--------------------+------+--------------------+----------+\n",
            "|234926|Awfully Big Adven...| 22279|               Drama| 2.9755378|\n",
            "|234926|      Aladdin (1992)|   812|Adventure|Animati...| 3.2513719|\n",
            "|234926|  French Kiss (1995)|   397|Action|Comedy|Rom...| 3.0609913|\n",
            "|234926|Star Trek: Genera...|   193|Adventure|Drama|S...| 2.9618726|\n",
            "|234926|  Client, The (1994)| 10731|Drama|Mystery|Thr...| 3.1212866|\n",
            "+------+--------------------+------+--------------------+----------+\n",
            "only showing top 5 rows\n",
            "\n"
          ],
          "name": "stdout"
        }
      ]
    },
    {
      "cell_type": "code",
      "metadata": {
        "id": "zP8wkZAroFuj"
      },
      "source": [
        "from IPython.display import Image\n",
        "from IPython.display import display"
      ],
      "execution_count": 71,
      "outputs": []
    },
    {
      "cell_type": "code",
      "metadata": {
        "colab": {
          "base_uri": "https://localhost:8080/"
        },
        "id": "h35veiCWqj8o",
        "outputId": "9530afec-a107-42a9-d0d1-f8975c296fc4"
      },
      "source": [
        "import webbrowser\n",
        "link = \"https://www.themoviedb.org/movie\"\n",
        "for movie in for_an_user.take(2):\n",
        "  url = link+str(movie.tmdbId)\n",
        "  print(movie.title)\n",
        "  webbrowser.open(url)"
      ],
      "execution_count": 72,
      "outputs": [
        {
          "output_type": "stream",
          "text": [
            "Awfully Big Adventure, An (1995)\n",
            "Aladdin (1992)\n"
          ],
          "name": "stdout"
        }
      ]
    },
    {
      "cell_type": "markdown",
      "metadata": {
        "id": "TnasbpvIcIG_"
      },
      "source": [
        "Attempt 2"
      ]
    },
    {
      "cell_type": "code",
      "metadata": {
        "colab": {
          "base_uri": "https://localhost:8080/"
        },
        "id": "5vyUYIwMcKEb",
        "outputId": "ef749398-9a44-4a01-937e-a5304883c9fb"
      },
      "source": [
        "# Get top 10 movie recommendations for all users\n",
        "movie_recommendation = Best_model.recommendForAllUsers(10)\n",
        "movie_recommendation.show()\n",
        "import pandas as pd\n",
        "movie_recommendation = movie_recommendation.toPandas()"
      ],
      "execution_count": 18,
      "outputs": [
        {
          "output_type": "stream",
          "text": [
            "+------+--------------------+\n",
            "|userId|     recommendations|\n",
            "+------+--------------------+\n",
            "|   148|[[151989, 5.28400...|\n",
            "|   463|[[177209, 3.45509...|\n",
            "|   471|[[177209, 5.04457...|\n",
            "|   496|[[177209, 5.62510...|\n",
            "|   833|[[183947, 4.90726...|\n",
            "|  1088|[[151989, 5.49119...|\n",
            "|  1238|[[72032, 3.367489...|\n",
            "|  1342|[[152986, 3.20153...|\n",
            "|  1580|[[177209, 5.73612...|\n",
            "|  1591|[[127252, 6.06560...|\n",
            "|  1645|[[151989, 6.00942...|\n",
            "|  1829|[[151989, 4.59136...|\n",
            "|  1959|[[177209, 5.80286...|\n",
            "|  2122|[[177209, 5.42111...|\n",
            "|  2142|[[177209, 5.96326...|\n",
            "|  2366|[[151989, 6.15353...|\n",
            "|  2659|[[151989, 4.79692...|\n",
            "|  2866|[[177209, 6.26189...|\n",
            "|  3175|[[177209, 2.64555...|\n",
            "|  3749|[[183947, 6.22231...|\n",
            "+------+--------------------+\n",
            "only showing top 20 rows\n",
            "\n"
          ],
          "name": "stdout"
        }
      ]
    },
    {
      "cell_type": "code",
      "metadata": {
        "id": "ibjPBiEV8RsJ"
      },
      "source": [
        "users = []\n",
        "recommendations = []\n",
        "\n",
        "# For the entire data iterate \n",
        "for i in range(len(movie_recommendation)):\n",
        "\n",
        "  # First we add user_id to the list\n",
        "  users.append(movie_recommendation.iloc[i,0])\n",
        "  user_recs = \"\" \n",
        "\n",
        "  # Fetching only the item ID's from the recommendations\n",
        "  for item in movie_recommendation.iloc[i,1]:\n",
        "     user_recs = user_recs + \", \" + str(item.asDict()[\"movieId\"])\n",
        "\n",
        "  # Append the itemID's to a list\n",
        "  recommendations.append(user_recs[2:])\n",
        "\n",
        "#Convert to dataframe\n",
        "recommendations_df = pd.DataFrame(data = zip(users, recommendations), columns=[\"user\", \"MovieID\"])"
      ],
      "execution_count": 19,
      "outputs": []
    },
    {
      "cell_type": "code",
      "metadata": {
        "colab": {
          "base_uri": "https://localhost:8080/",
          "height": 343
        },
        "id": "5veaQQsLEclr",
        "outputId": "fb14b0d3-e72c-4405-921f-c8b3cd56433e"
      },
      "source": [
        "#Check the users and the top 10 movie recommendations for the first 10 users\n",
        "recommendations_df.head(10)"
      ],
      "execution_count": 20,
      "outputs": [
        {
          "output_type": "execute_result",
          "data": {
            "text/html": [
              "<div>\n",
              "<style scoped>\n",
              "    .dataframe tbody tr th:only-of-type {\n",
              "        vertical-align: middle;\n",
              "    }\n",
              "\n",
              "    .dataframe tbody tr th {\n",
              "        vertical-align: top;\n",
              "    }\n",
              "\n",
              "    .dataframe thead th {\n",
              "        text-align: right;\n",
              "    }\n",
              "</style>\n",
              "<table border=\"1\" class=\"dataframe\">\n",
              "  <thead>\n",
              "    <tr style=\"text-align: right;\">\n",
              "      <th></th>\n",
              "      <th>user</th>\n",
              "      <th>MovieID</th>\n",
              "    </tr>\n",
              "  </thead>\n",
              "  <tbody>\n",
              "    <tr>\n",
              "      <th>0</th>\n",
              "      <td>148</td>\n",
              "      <td>151989, 155923, 187873, 177209, 101706, 192089...</td>\n",
              "    </tr>\n",
              "    <tr>\n",
              "      <th>1</th>\n",
              "      <td>463</td>\n",
              "      <td>177209, 192089, 151989, 187873, 155923, 187125...</td>\n",
              "    </tr>\n",
              "    <tr>\n",
              "      <th>2</th>\n",
              "      <td>471</td>\n",
              "      <td>177209, 127252, 190707, 159761, 183947, 151989...</td>\n",
              "    </tr>\n",
              "    <tr>\n",
              "      <th>3</th>\n",
              "      <td>496</td>\n",
              "      <td>177209, 159017, 183947, 192089, 190707, 151989...</td>\n",
              "    </tr>\n",
              "    <tr>\n",
              "      <th>4</th>\n",
              "      <td>833</td>\n",
              "      <td>183947, 184299, 177209, 183845, 155923, 187873...</td>\n",
              "    </tr>\n",
              "    <tr>\n",
              "      <th>5</th>\n",
              "      <td>1088</td>\n",
              "      <td>151989, 122222, 177209, 187873, 155923, 138908...</td>\n",
              "    </tr>\n",
              "    <tr>\n",
              "      <th>6</th>\n",
              "      <td>1238</td>\n",
              "      <td>72032, 178147, 128667, 121919, 108050, 111762,...</td>\n",
              "    </tr>\n",
              "    <tr>\n",
              "      <th>7</th>\n",
              "      <td>1342</td>\n",
              "      <td>152986, 152035, 168090, 156396, 151989, 177879...</td>\n",
              "    </tr>\n",
              "    <tr>\n",
              "      <th>8</th>\n",
              "      <td>1580</td>\n",
              "      <td>177209, 151989, 157789, 127252, 183947, 190707...</td>\n",
              "    </tr>\n",
              "    <tr>\n",
              "      <th>9</th>\n",
              "      <td>1591</td>\n",
              "      <td>127252, 177209, 117352, 190707, 184299, 159761...</td>\n",
              "    </tr>\n",
              "  </tbody>\n",
              "</table>\n",
              "</div>"
            ],
            "text/plain": [
              "   user                                            MovieID\n",
              "0   148  151989, 155923, 187873, 177209, 101706, 192089...\n",
              "1   463  177209, 192089, 151989, 187873, 155923, 187125...\n",
              "2   471  177209, 127252, 190707, 159761, 183947, 151989...\n",
              "3   496  177209, 159017, 183947, 192089, 190707, 151989...\n",
              "4   833  183947, 184299, 177209, 183845, 155923, 187873...\n",
              "5  1088  151989, 122222, 177209, 187873, 155923, 138908...\n",
              "6  1238  72032, 178147, 128667, 121919, 108050, 111762,...\n",
              "7  1342  152986, 152035, 168090, 156396, 151989, 177879...\n",
              "8  1580  177209, 151989, 157789, 127252, 183947, 190707...\n",
              "9  1591  127252, 177209, 117352, 190707, 184299, 159761..."
            ]
          },
          "metadata": {
            "tags": []
          },
          "execution_count": 20
        }
      ]
    },
    {
      "cell_type": "code",
      "metadata": {
        "id": "sd2e-aELMuKn"
      },
      "source": [
        "#write to a text file\n",
        "recommendations_df.to_csv('/content/recommendation_project.txt', sep='\\t', index=False)"
      ],
      "execution_count": 21,
      "outputs": []
    }
  ]
}